{
  "nbformat": 4,
  "nbformat_minor": 0,
  "metadata": {
    "colab": {
      "provenance": [],
      "collapsed_sections": [],
      "include_colab_link": true
    },
    "kernelspec": {
      "name": "python3",
      "display_name": "Python 3"
    },
    "language_info": {
      "name": "python"
    }
  },
  "cells": [
    {
      "cell_type": "markdown",
      "metadata": {
        "id": "view-in-github",
        "colab_type": "text"
      },
      "source": [
        "<a href=\"https://colab.research.google.com/github/hagisileo/PyTorch/blob/master/09_%EC%84%A0%ED%83%9D%EA%B5%AC%EB%AC%B8(if)_%ED%95%99%EC%83%9D.ipynb\" target=\"_parent\"><img src=\"https://colab.research.google.com/assets/colab-badge.svg\" alt=\"Open In Colab\"/></a>"
      ]
    },
    {
      "cell_type": "markdown",
      "metadata": {
        "id": "qL4I8Ts9kJ1r"
      },
      "source": [
        "\n",
        "# 1. if문\n",
        "\n",
        " - 조건을 판단하여 해당 조건에 맞는 상황을 수행\n",
        "\n",
        "```\n",
        "if 조건문:\n",
        "    수행할 문장1\n",
        "    수행할 문장2\n",
        "    ...\n",
        "\n",
        "```\n",
        "\n"
      ]
    },
    {
      "cell_type": "markdown",
      "metadata": {
        "id": "zN2E0OwkdL2X"
      },
      "source": [
        "## if 조건문\n",
        "\n",
        "- 100 이 짝수인가요?\n",
        "    - 결과 : Yes"
      ]
    },
    {
      "cell_type": "code",
      "source": [
        "n = 100\n",
        "n % 2 == 0\n",
        "\n",
        "if n % 2 == 0:\n",
        "    print('짝수')\n",
        "print('종료')\n"
      ],
      "metadata": {
        "id": "ttoQDvXOi0za",
        "colab": {
          "base_uri": "https://localhost:8080/"
        },
        "outputId": "29d48df5-82ed-48b6-f9e1-0c37d996d222"
      },
      "execution_count": null,
      "outputs": [
        {
          "output_type": "stream",
          "name": "stdout",
          "text": [
            "짝수\n",
            "종료\n"
          ]
        }
      ]
    },
    {
      "cell_type": "markdown",
      "source": [
        "- 성적을 입력 받은후 \n",
        "    - 90점 이상이면 '통과했습니다. 축하합니다.수고했습니다.'\n",
        "    - 90점 미만이면 '수고했습니다.'\n",
        "\n"
      ],
      "metadata": {
        "id": "N4J8A5_LL1lp"
      }
    },
    {
      "cell_type": "code",
      "source": [
        "score = 89\n",
        "\n",
        "if score >= 90:\n",
        "    print('통과')\n",
        "    print('축하합니다.')\n",
        "    print('수고했습니다')\n",
        "print('수고했습니다.')\n"
      ],
      "metadata": {
        "id": "AmkeAojbi1bM",
        "colab": {
          "base_uri": "https://localhost:8080/"
        },
        "outputId": "32c78093-3de6-4651-bc9b-6c41d345aabb"
      },
      "execution_count": null,
      "outputs": [
        {
          "output_type": "stream",
          "name": "stdout",
          "text": [
            "수고했습니다.\n"
          ]
        }
      ]
    },
    {
      "cell_type": "markdown",
      "metadata": {
        "id": "gRAhNldVdL8X"
      },
      "source": [
        "## if-else 조건문\n",
        "\n",
        "```\n",
        "if  (조건식):  # 만약 조건이 참인가? \n",
        "    참인경우 처리문장1\n",
        "    참인경우 처리문장2\n",
        "else:         # 조건이 거짓인경우\n",
        "    거짓인경우 처리문장1\n",
        "    거짓인경우 처리문장2\n",
        "```"
      ]
    },
    {
      "cell_type": "markdown",
      "metadata": {
        "id": "WimtaYNNdL5W"
      },
      "source": [
        "- 55는 짝수인지 홀수인지 출력합니다.\n",
        "    - 결과 : 55는 홀수입니다."
      ]
    },
    {
      "cell_type": "code",
      "source": [
        "n = 55\n",
        "\n",
        "if n % 2 == 0:\n",
        "    print('짝수')\n",
        "else:\n",
        "    print('홀수')\n",
        "print('종료')\n"
      ],
      "metadata": {
        "id": "mlnRzrFbi3MV",
        "colab": {
          "base_uri": "https://localhost:8080/"
        },
        "outputId": "addcddc9-c021-4c4f-c906-0256a836b52d"
      },
      "execution_count": null,
      "outputs": [
        {
          "output_type": "stream",
          "name": "stdout",
          "text": [
            "홀수\n",
            "종료\n"
          ]
        }
      ]
    },
    {
      "cell_type": "markdown",
      "source": [
        "- 성적을 입력 받은후 \n",
        "    - 90점 이상이면 '통과했습니다. 축하합니다.수고했습니다.'\n",
        "    - 90점 미만이면 ' 90점이상이어야 통과입니다. 수고했습니다.'"
      ],
      "metadata": {
        "id": "QlUP70m_MhoH"
      }
    },
    {
      "cell_type": "code",
      "source": [
        "score = 89\n",
        "\n",
        "if score >= 90:\n",
        "    print('통과')\n",
        "    print('축하합니다.')\n",
        "    print('수고했습니다.')\n",
        "else:\n",
        "    print('90점이상이어야 통과입니다.')\n",
        "print('종료')"
      ],
      "metadata": {
        "id": "HJD7HKV4i5XM",
        "colab": {
          "base_uri": "https://localhost:8080/"
        },
        "outputId": "ea64d014-4582-4b50-8d7d-b5d4945f01ff"
      },
      "execution_count": null,
      "outputs": [
        {
          "output_type": "stream",
          "name": "stdout",
          "text": [
            "90점이상이어야 통과입니다.\n",
            "종료\n"
          ]
        }
      ]
    },
    {
      "cell_type": "markdown",
      "metadata": {
        "id": "b3SGGxBqdL_5"
      },
      "source": [
        "###  if - else (비교연산자 & 논리연산자)\n",
        "놀이기구를 타는 기준\n",
        "\n",
        "* 조건 :  나이가 10살 이상이거나 키가 130이상이어야 놀이기구를 탈수 있다.\n",
        "    - 논리식  :  나이 >= 10  or 키  >= 130\n",
        "    - 논리식  :  나이 >= 10  and 키  >= 130"
      ]
    },
    {
      "cell_type": "code",
      "source": [
        "a = 10\n",
        "h = 130\n",
        "\n",
        "if a >= 10 or h >= 130: # or = |, and = & (특수 기호 이용 시 괄호() 이용 추천)\n",
        "# if (a >= 10 )| (h >= 130): \n",
        "    print('놀이기구를 탈 수 있다.')\n",
        "else:\n",
        "    print('놀이기구를 탈 수 없다.')\n",
        "\n",
        "print('감사합니다.')"
      ],
      "metadata": {
        "id": "GftnOllOi7g9",
        "colab": {
          "base_uri": "https://localhost:8080/"
        },
        "outputId": "e6a75ce6-d2d3-47dc-b270-fed40535989c"
      },
      "execution_count": null,
      "outputs": [
        {
          "output_type": "stream",
          "name": "stdout",
          "text": [
            "놀이기구를 탈 수 있다.\n",
            "감사합니다.\n"
          ]
        }
      ]
    },
    {
      "cell_type": "markdown",
      "source": [
        "**[혼자해보기]<br>**\n",
        "자격증 취득 규칙\n",
        "- 세 과목의 모든 점수가 60점 이상이거나\n",
        "- 세 과목의 평균 점수가 70점 이상이어야 한다.\n",
        "\n",
        "\n",
        "- 만약, 과목1 = 90, 과목2 = 70, 과목3 =50 인경우 자격증 취득이 가능한가? "
      ],
      "metadata": {
        "id": "p-yOInnFNLmM"
      }
    },
    {
      "cell_type": "code",
      "source": [
        "s1 = 90 ; s2 = 70 ; s3 = 50 \n",
        "a =(s1 + s2 + s3)/3\n",
        "\n",
        "\n",
        "if (s1 >= 60 and s1 >= 60 and s3 >= 60) or (a >= 70): \n",
        "    print('취득')\n",
        "\n",
        "else:\n",
        "    print('미취득')\n",
        "\n",
        "  "
      ],
      "metadata": {
        "id": "WyJQThTai8Sp",
        "colab": {
          "base_uri": "https://localhost:8080/"
        },
        "outputId": "16f76fe2-4f33-404d-d7e5-5419945a2e41"
      },
      "execution_count": null,
      "outputs": [
        {
          "output_type": "stream",
          "name": "stdout",
          "text": [
            "취득\n"
          ]
        }
      ]
    },
    {
      "cell_type": "markdown",
      "metadata": {
        "id": "yneK5f_cdMIg"
      },
      "source": [
        "## if-elif - else 조건문\n",
        "\n",
        "```\n",
        "if  (조건식1):  \n",
        "    조건식1 참인경우 처리문장1\n",
        "    조건식1 참인경우 처리문장2\n",
        "elif (조건식2):\n",
        "    조건식2 참인경우 처리문장1\n",
        "    조건식2 참인경우 처리문장2\n",
        "elif (조건식3):\n",
        "    조건식3 참인경우 처리문장1\n",
        "    조건식3 참인경우 처리문장2\n",
        "else:         \n",
        "    모든 조건에 거짓인경우 처리문장1\n",
        "    모든 조건에 거짓인경우 처리문장2\n",
        "```"
      ]
    },
    {
      "cell_type": "markdown",
      "source": [
        "성적의 평점을 계산\n",
        "- 90점이상이면 A, 80점이상인 경우 B, 70점이상인 경우 C, 60점이상인 경우 D, 60점 미만인 경우 F\n",
        "\n"
      ],
      "metadata": {
        "id": "nirfsmT9N1zD"
      }
    },
    {
      "cell_type": "code",
      "source": [
        "s = 77\n",
        "res = \"\"\n",
        "\n",
        "if s >= 90:\n",
        "    res = \"A\"\n",
        "elif s >= 80:\n",
        "    res =\"B\"\n",
        "elif s >= 70:\n",
        "    res = \"C\"\n",
        "elif s >= 60:\n",
        "    res = \"D\"\n",
        "else:\n",
        "    res =\"F\"\n",
        "\n",
        "print('결과:', res)"
      ],
      "metadata": {
        "id": "czR529D-i9XX",
        "colab": {
          "base_uri": "https://localhost:8080/"
        },
        "outputId": "1a8729a6-62b8-4a7d-8758-c306e1a139be"
      },
      "execution_count": null,
      "outputs": [
        {
          "output_type": "stream",
          "name": "stdout",
          "text": [
            "결과: C\n"
          ]
        }
      ]
    },
    {
      "cell_type": "markdown",
      "source": [
        "요일 구하기\n",
        "\n",
        "1일이 월요일이다. 30일은 무슨요일일까?"
      ],
      "metadata": {
        "id": "zfxIL8-KhWPB"
      }
    },
    {
      "cell_type": "code",
      "source": [
        "day = 30 \n",
        "\n",
        "a = day % 7\n",
        "w = \"\"\n",
        "\n",
        "if a == 0:\n",
        "    w = \"일요일\"\n",
        "elif a == 1:\n",
        "    w = \"월요일\"\n",
        "elif a == 2:\n",
        "    w = \"화요일\"\n",
        "elif a == 3:\n",
        "    w = \"수요일\"\n",
        "elif a == 4:\n",
        "    w = \"목요일\"\n",
        "elif a == 5:\n",
        "    w = \"금요일\"\n",
        "# elif a == 6:\n",
        "    # w = '토요일'\n",
        "else:\n",
        "    w = \"토요일\"\n",
        "\n",
        "print(day,'일은', w)"
      ],
      "metadata": {
        "id": "y-jujWgWjDvS",
        "colab": {
          "base_uri": "https://localhost:8080/"
        },
        "outputId": "cc169965-5b98-46a7-e226-b93ffbee98a4"
      },
      "execution_count": null,
      "outputs": [
        {
          "output_type": "stream",
          "name": "stdout",
          "text": [
            "30 일은 화요일\n"
          ]
        }
      ]
    },
    {
      "cell_type": "markdown",
      "source": [
        "\n",
        "- 3,4,5월은 봄 6,7,8월 여름 9,10,11월 가을, 12,1,2월 겨울 인경우\n",
        "\n",
        "계절을 확인해보자.<br>\n",
        "입력 : 계절을 확인할 달을 입력해주세요>>  4[입력] <br>\n",
        "출력 : 계절은 봄입니다.\n"
      ],
      "metadata": {
        "id": "BlhF0H7vhwTQ"
      }
    },
    {
      "cell_type": "code",
      "source": [
        "month =  int(input('계절을 확인할 달을 입력해주세요>>'))\n",
        "\n",
        "if 3 <= month <= 5: # 3 <=month and month>= 5\n",
        "    s='봄'\n",
        "elif 6<= month <=8:\n",
        "    s=\"여름\"\n",
        "elif 9<= month <=11:\n",
        "    s=\"가을\"\n",
        "else:\n",
        "    s=\"겨울\"\n",
        "\n",
        "print(month,\"월은\", s+\"입니다\")"
      ],
      "metadata": {
        "colab": {
          "base_uri": "https://localhost:8080/"
        },
        "id": "SL5y-tNZsXlt",
        "outputId": "d5dede99-6f8a-46be-8ad8-0968b9867831"
      },
      "execution_count": null,
      "outputs": [
        {
          "output_type": "stream",
          "name": "stdout",
          "text": [
            "계절을 확인할 달을 입력해주세요>>4\n",
            "4 월은 봄입니다\n"
          ]
        }
      ]
    },
    {
      "cell_type": "code",
      "source": [
        "m = int(input('계절을 확인할 달을 입력해주세요>>'))\n",
        "\n",
        "if (m == 3) | (m == 4) | (m == 5):\n",
        "    w = '봄'\n",
        "elif (m == 6) | (m == 7) | (m == 8):\n",
        "    w = \"여름\"\n",
        "elif (m == 9) | (m == 10) | (m == 11):\n",
        "    w = \"가을\"\n",
        "elif (m == 12) | (m == 1) | (m == 2):  \n",
        "    w = \"겨울\"\n",
        "\n",
        "print(m,\"월은\", w, '입니다' )"
      ],
      "metadata": {
        "id": "_NFk1XnyjE2h",
        "colab": {
          "base_uri": "https://localhost:8080/"
        },
        "outputId": "b931b46f-a634-4b6a-ed13-52f89907363d"
      },
      "execution_count": null,
      "outputs": [
        {
          "output_type": "stream",
          "name": "stdout",
          "text": [
            "계절을 확인할 달을 입력해주세요>>4\n",
            "4 월은 봄 입니다\n"
          ]
        }
      ]
    },
    {
      "cell_type": "markdown",
      "metadata": {
        "id": "PVigLO16dMSC"
      },
      "source": [
        "## if 조건문 - 리스트  \n",
        "'사과', '배', '딸기', '포도', '바나나'은 과일이다.\n",
        "- 사과는 과일인가? \n",
        "- 배추는 과일인가?\n"
      ]
    },
    {
      "cell_type": "code",
      "metadata": {
        "id": "Jd9grswCf3Ol",
        "colab": {
          "base_uri": "https://localhost:8080/"
        },
        "outputId": "98242e1c-f660-460c-8a08-93b394f59295"
      },
      "source": [
        "#입력받은 값이 과일인지 아닌지를 판단하는 프로그램 작성\n",
        "\n",
        "f = ['사과', '배', '딸기', '포도', '바나나']\n",
        "과일 = '배추'\n",
        "\n",
        "if 과일 in f:\n",
        "    print('과일입니다.')\n",
        "else:\n",
        "    print('채소')\n"
      ],
      "execution_count": null,
      "outputs": [
        {
          "output_type": "stream",
          "name": "stdout",
          "text": [
            "채소\n"
          ]
        }
      ]
    },
    {
      "cell_type": "markdown",
      "metadata": {
        "id": "0fu6NldpTIeW"
      },
      "source": [
        "[문제]\n",
        "- 투자 경고 종목 리스트가 있을 때 [\"Microsoft\", \"Google\", \"Naver\", \"Kakao\", \"SAMSUNG\", \"LG\"]\n",
        "- 사용자로부터 종목명을 입력 받은 후 \n",
        "    - 해당 종목이 투자 경고 종목이라면 '투자 경고 종목입니다'를 \n",
        "- 아니면 \n",
        "    - \"투자 경고 종목이 아닙니다.\"\n",
        "- **출력하는** 프로그램을 작성하라"
      ]
    },
    {
      "cell_type": "code",
      "metadata": {
        "id": "xJgy-x7oaWO3",
        "colab": {
          "base_uri": "https://localhost:8080/"
        },
        "outputId": "bb0c5d1e-38ee-41a3-9876-d85509eefb36"
      },
      "source": [
        "s = [\"Microsoft\", \"Google\", \"Naver\", \"Kakao\", \"SAMSUNG\", \"LG\"]\n",
        "\n",
        "c = input('투자 종목명을 입력해주십시오>>')\n",
        "\n",
        "if c in s:\n",
        "    print('투자 경고 종목입니다.')\n",
        "else:\n",
        "    print('투자 경고 종목이 아닙니다.')"
      ],
      "execution_count": null,
      "outputs": [
        {
          "output_type": "stream",
          "name": "stdout",
          "text": [
            "투자 종목명을 입력해주십시오>>Kakao\n",
            "투자 경고 종목입니다.\n"
          ]
        }
      ]
    },
    {
      "cell_type": "markdown",
      "metadata": {
        "id": "rAAyAO38ToKM"
      },
      "source": [
        "## if 조건문 - 딕셔너리\n",
        "-fruit = {\"딸기:\"봄\", \"토마토\":\"여름\", \"사과\":\"가을\" , \"바나나\": \"사계절\"} \n",
        "- 과일을 입력받은후 \n",
        "- 리스트에 있으면 \"과일이 등록되었습니다.\"\n",
        "- 리스트에 없으면 \"등록된 과일이 없습니다.\""
      ]
    },
    {
      "cell_type": "code",
      "metadata": {
        "id": "ndoRdKWQVvOa",
        "colab": {
          "base_uri": "https://localhost:8080/"
        },
        "outputId": "bbd2d92a-76ae-423a-d889-4c96bc3556e4"
      },
      "source": [
        "fruit = {\"딸기\":\"봄\", \"토마토\":\"여름\", \"사과\":\"가을\" , \"바나나\": \"사계절\"} \n",
        "과일 = '딸기'\n",
        "\n",
        "if 과일 in fruit:\n",
        "    print('과일이 등록되어 있습니다.', fruit[과일])\n",
        "else:\n",
        "    print('등록된 과일이 없습니다.')"
      ],
      "execution_count": null,
      "outputs": [
        {
          "output_type": "stream",
          "name": "stdout",
          "text": [
            "과일이 등록되어 있습니다. 봄\n"
          ]
        }
      ]
    },
    {
      "cell_type": "markdown",
      "metadata": {
        "id": "GOE97VRkdMUx"
      },
      "source": [
        "# if 조건문 -  제어문을 한 행에 작성\n",
        "\n",
        "```\n",
        "if 10 < 5 :                                   \n",
        "    print(\" 참입니다\") \n",
        "else :\n",
        "    print(\" 거짓입니다 \")\n",
        "```\n",
        "\n"
      ]
    },
    {
      "cell_type": "code",
      "metadata": {
        "id": "gij--2tigRb2"
      },
      "source": [
        "## 제어문은 인라인으로 작성할 수 있다.                                                                                      \n",
        "## 이때는 블럭문장을 표시하는 콜론은 사용하지 않는다.\n",
        "\n",
        "if 10 < 5 :                                   \n",
        "    print(\" 참입니다\") \n",
        "else :\n",
        "    print(\" 거짓입니다 \")\n"
      ],
      "execution_count": null,
      "outputs": []
    },
    {
      "cell_type": "code",
      "source": [
        "print(\" 참입니다\")  if 10 < 5 else print('거짓입니다')"
      ],
      "metadata": {
        "colab": {
          "base_uri": "https://localhost:8080/"
        },
        "id": "393pRkpHvbDk",
        "outputId": "6aaade1d-478e-46e2-94eb-1089461bcf92"
      },
      "execution_count": null,
      "outputs": [
        {
          "output_type": "stream",
          "name": "stdout",
          "text": [
            "거짓입니다\n"
          ]
        }
      ]
    }
  ]
}