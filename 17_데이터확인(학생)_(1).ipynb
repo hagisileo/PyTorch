{
  "nbformat": 4,
  "nbformat_minor": 0,
  "metadata": {
    "colab": {
      "provenance": [],
      "include_colab_link": true
    },
    "kernelspec": {
      "name": "python3",
      "display_name": "Python 3"
    },
    "language_info": {
      "name": "python"
    }
  },
  "cells": [
    {
      "cell_type": "markdown",
      "metadata": {
        "id": "view-in-github",
        "colab_type": "text"
      },
      "source": [
        "<a href=\"https://colab.research.google.com/github/hagisileo/PyTorch/blob/master/17_%EB%8D%B0%EC%9D%B4%ED%84%B0%ED%99%95%EC%9D%B8(%ED%95%99%EC%83%9D)_(1).ipynb\" target=\"_parent\"><img src=\"https://colab.research.google.com/assets/colab-badge.svg\" alt=\"Open In Colab\"/></a>"
      ]
    },
    {
      "cell_type": "code",
      "execution_count": null,
      "metadata": {
        "id": "ExGxcFlfHKIt"
      },
      "outputs": [],
      "source": [
        "import pandas as pd"
      ]
    },
    {
      "cell_type": "code",
      "source": [
        "# 구글 드라이브 마운트\n",
        "from google.colab import drive\n",
        "drive.mount('/gdrive')"
      ],
      "metadata": {
        "id": "PTHTvmMmHZYw",
        "colab": {
          "base_uri": "https://localhost:8080/"
        },
        "outputId": "3a809902-eb89-4653-d9ea-c1282f4b1b01"
      },
      "execution_count": null,
      "outputs": [
        {
          "output_type": "stream",
          "name": "stdout",
          "text": [
            "Mounted at /gdrive\n"
          ]
        }
      ]
    },
    {
      "cell_type": "code",
      "source": [
        "drive_path = '/gdrive/MyDrive/문제해결을위한파이썬/'"
      ],
      "metadata": {
        "id": "XmnV-n0HHZVm"
      },
      "execution_count": null,
      "outputs": []
    },
    {
      "cell_type": "code",
      "source": [
        "df = pd.read_csv(drive_path + 'score.csv', index_col='지원번호')\n",
        "df"
      ],
      "metadata": {
        "id": "QUuhWxksHZSU"
      },
      "execution_count": null,
      "outputs": []
    },
    {
      "cell_type": "markdown",
      "source": [
        "## DataFrame \n",
        "\n",
        "    - 계산 가능한 데이터에 대해 Column 별로 데이터의 갯수, 평균, 표준편차, 최소/최대값 등의 정보를 보여줌"
      ],
      "metadata": {
        "id": "3zuUfZknHxUC"
      }
    },
    {
      "cell_type": "markdown",
      "source": [
        "- describe() 메서드\n",
        "    - DataFrame:  수치형 컬럼별 주요 통계량 대한 요약\n",
        "    - 누락데이터(NaN)는 제외하고 데이터요약\n",
        "\n",
        "        - Count : 컬럼별 총 데이터수\n",
        "        - mean/std : 컬럼별 데이터의 평균 / 표준편차\n",
        "        - min /max : 컬럼별 데이터의 최소값 / 최대값\n",
        "        - 25%,50%, 75% : 백분위수의 각 지점으로, 분포를 반영해 평균을 보안하는 목적으로 사용\n"
      ],
      "metadata": {
        "id": "qSYzVBQYuSul"
      }
    },
    {
      "cell_type": "code",
      "source": [],
      "metadata": {
        "id": "c-CMqOtKHZOu"
      },
      "execution_count": null,
      "outputs": []
    },
    {
      "cell_type": "markdown",
      "source": [
        "- info()메서드\n",
        "\n",
        "    - 데이터셋에 존재하는 컬럼명과 컬럼별 결측치, 컬럼별 데이터타입을 확인할 때 사용"
      ],
      "metadata": {
        "id": "NKdOKTlFw1le"
      }
    },
    {
      "cell_type": "code",
      "source": [
        "df.info()"
      ],
      "metadata": {
        "id": "LDlO8NWKHZLG"
      },
      "execution_count": null,
      "outputs": []
    },
    {
      "cell_type": "markdown",
      "source": [
        "- 데이터프레임 내용 확인\n",
        "    - .head()\n",
        "    - .tail()\n",
        "- 데이터프레임 속성\n",
        "    *  .values   : values 속성을 확인\n",
        "    *  .index    : 행의 레이블 \n",
        "    *  .column   : 열의 레이블 관리\n",
        "    *  .axes     : 행과 열 레이블 관리\n",
        "    *  .shape    : 행,열수\n",
        "    *  .ndim     : 차원\n",
        "    *  .size     : 원소개수\n",
        "    *  .dtype  : 시리즈 값의 자료형"
      ],
      "metadata": {
        "id": "X8RnKdbVJTT3"
      }
    },
    {
      "cell_type": "code",
      "source": [],
      "metadata": {
        "id": "fJphw9xKxU-m"
      },
      "execution_count": null,
      "outputs": []
    },
    {
      "cell_type": "markdown",
      "source": [
        "# Series "
      ],
      "metadata": {
        "id": "DJ9_Y_WUIILq"
      }
    },
    {
      "cell_type": "markdown",
      "source": [
        "- 통계에 대한 메서드\n",
        "    * .describe()\n",
        "    * .min()\n",
        "    * .max()\n",
        "    * .nlargest()\n",
        "    * .meam()\n",
        "    * .count()"
      ],
      "metadata": {
        "id": "FmKCXQVkJkcA"
      }
    },
    {
      "cell_type": "code",
      "source": [],
      "metadata": {
        "id": "6H4_lM15LJ1L"
      },
      "execution_count": null,
      "outputs": []
    },
    {
      "cell_type": "markdown",
      "source": [
        "- 칼럼의 레이블 정보\n",
        "\n",
        "    - .unique()  :  컬럼 내에 존재하는 모든 레이블의 종류\n",
        "    - .nunique() : 데이터셋에 존재하는 컬럼별 레이블의 개수를 확인\n",
        "    - .value_counts()\n"
      ],
      "metadata": {
        "id": "rtFP4V67JyII"
      }
    },
    {
      "cell_type": "code",
      "source": [],
      "metadata": {
        "id": "YD0WAukYInE9"
      },
      "execution_count": null,
      "outputs": []
    },
    {
      "cell_type": "code",
      "source": [],
      "metadata": {
        "id": "Mfui6QOBIm9Y"
      },
      "execution_count": null,
      "outputs": []
    },
    {
      "cell_type": "code",
      "source": [
        "# 22_데이터수정"
      ],
      "metadata": {
        "id": "x-jd6G9DWpqu"
      },
      "execution_count": null,
      "outputs": []
    }
  ]
}