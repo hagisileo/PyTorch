{
  "nbformat": 4,
  "nbformat_minor": 0,
  "metadata": {
    "colab": {
      "provenance": [],
      "collapsed_sections": [],
      "toc_visible": true,
      "authorship_tag": "ABX9TyN4Md/v6PXXNGdVtyYm6ETp",
      "include_colab_link": true
    },
    "kernelspec": {
      "name": "python3",
      "display_name": "Python 3"
    },
    "language_info": {
      "name": "python"
    }
  },
  "cells": [
    {
      "cell_type": "markdown",
      "metadata": {
        "id": "view-in-github",
        "colab_type": "text"
      },
      "source": [
        "<a href=\"https://colab.research.google.com/github/hagisileo/PyTorch/blob/master/01_%EB%A7%88%ED%81%AC%EB%8B%A4%EC%9A%B4.ipynb\" target=\"_parent\"><img src=\"https://colab.research.google.com/assets/colab-badge.svg\" alt=\"Open In Colab\"/></a>"
      ]
    },
    {
      "cell_type": "markdown",
      "source": [
        "문제해결을 위한 파이썬"
      ],
      "metadata": {
        "id": "G2ocsiRYe4Ct"
      }
    },
    {
      "cell_type": "code",
      "source": [
        "print(\"파이썬\")"
      ],
      "metadata": {
        "colab": {
          "base_uri": "https://localhost:8080/"
        },
        "id": "TZxcW3moijF9",
        "outputId": "85db9879-bbb3-4c17-e31b-2d15caa6c5b5"
      },
      "execution_count": null,
      "outputs": [
        {
          "output_type": "stream",
          "name": "stdout",
          "text": [
            "파이썬\n"
          ]
        }
      ]
    },
    {
      "cell_type": "code",
      "source": [
        "print(10*55)"
      ],
      "metadata": {
        "id": "Vy2M6xXGjh0m"
      },
      "execution_count": null,
      "outputs": []
    },
    {
      "cell_type": "markdown",
      "source": [
        "# 마크다운 실습\n",
        "- 코랩 환경설정\n",
        "- 코드 실행\n",
        "- 텍스트셀에 사용하여 노트북 역할을 할 수 있다.\n",
        "- 저장 파일 형식: *.ipynb"
      ],
      "metadata": {
        "id": "8FDQhJL4e95O"
      }
    },
    {
      "cell_type": "markdown",
      "source": [
        "# 실습 1단계\n"
      ],
      "metadata": {
        "id": "x9bsH6MVfZTD"
      }
    },
    {
      "cell_type": "markdown",
      "source": [
        "## 실습 2단계\n"
      ],
      "metadata": {
        "id": "9VTyuH69fhLh"
      }
    },
    {
      "cell_type": "markdown",
      "source": [
        "## 글머리 기호(1)\n",
        "\n",
        "1. 생물\n",
        "  1. 동물\n",
        "    - 양서류\n",
        "    - 파충류\n",
        "  2. 식물\n",
        "2. 무생물\n"
      ],
      "metadata": {
        "id": "sYDyfr94fsqM"
      }
    },
    {
      "cell_type": "markdown",
      "source": [
        "### 실습 3단계"
      ],
      "metadata": {
        "id": "yHwdGRZpfiqo"
      }
    },
    {
      "cell_type": "markdown",
      "source": [
        "#### 실습 4단계"
      ],
      "metadata": {
        "id": "K1U8m0FZflM8"
      }
    },
    {
      "cell_type": "markdown",
      "source": [
        "##### 실습 5단계\n"
      ],
      "metadata": {
        "id": "BwD5EAjnfn6l"
      }
    },
    {
      "cell_type": "markdown",
      "source": [
        "##내용작성 - 강조\n",
        "\n",
        "학교종이 ***땡땡떙*** <br>\n",
        "어서모이자 <br>\n",
        "선생님이 <br> 우리를 <br>\n",
        "기다리신다."
      ],
      "metadata": {
        "id": "fN3naWMff8is"
      }
    },
    {
      "cell_type": "markdown",
      "source": [
        "학교종이 땡땡떙\n",
        "어서모이자\n",
        "선생님이\n",
        "우리를\n",
        "기다리신다.\n",
        "\n",
        "```\n",
        "학교종이 땡땡떙\n",
        "어서모이자\n",
        "선생님이\n",
        "우리를\n",
        "기다리신다.\n",
        "```\n",
        "\n"
      ],
      "metadata": {
        "id": "eeyMt18RhRKc"
      }
    },
    {
      "cell_type": "markdown",
      "source": [
        "## 웹으로 연결\n",
        "- [인천대학교](https://inu.ac.kr/)\n",
        "- [구글드라이브](https://drive.google.com/)"
      ],
      "metadata": {
        "id": "XPfY92qUhRHH"
      }
    },
    {
      "cell_type": "markdown",
      "source": [
        "## [실행 단축키]\n",
        "- Ctrl + Enter : 선택된 셀을 실행 \n",
        "- Shift + Enter : 선택된 셀을 실행 후 다음 셀로 포커스 이동\n",
        "- Alt + Enter : 실행 후 다음 셀을 만든 후 이동\n",
        "- 선택모드에서 화살표 방향키 : 셀 포커스를 위 아래로 이동\n",
        "\n"
      ],
      "metadata": {
        "id": "b-Q1nJSUhk7X"
      }
    },
    {
      "cell_type": "markdown",
      "source": [
        "## [모드 변환 키]\n",
        "- Ctrl + M M : 마크다운으로 전환 \n",
        "- Ctrl + M Y : 코드로 전환 \n",
        "- Ctrl + S : 저장 "
      ],
      "metadata": {
        "id": "qTyXKeWwhkxj"
      }
    },
    {
      "cell_type": "markdown",
      "source": [],
      "metadata": {
        "id": "QOZ5Q8lgjx-Y"
      }
    },
    {
      "cell_type": "markdown",
      "source": [],
      "metadata": {
        "id": "qlvdc8YIhknN"
      }
    },
    {
      "cell_type": "markdown",
      "source": [],
      "metadata": {
        "id": "AbnE6m_shkQQ"
      }
    }
  ]
}