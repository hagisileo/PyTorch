{
  "nbformat": 4,
  "nbformat_minor": 0,
  "metadata": {
    "colab": {
      "provenance": [],
      "collapsed_sections": [],
      "toc_visible": true,
      "include_colab_link": true
    },
    "kernelspec": {
      "name": "python3",
      "display_name": "Python 3"
    },
    "language_info": {
      "name": "python"
    }
  },
  "cells": [
    {
      "cell_type": "markdown",
      "metadata": {
        "id": "view-in-github",
        "colab_type": "text"
      },
      "source": [
        "<a href=\"https://colab.research.google.com/github/hagisileo/PyTorch/blob/master/12_Numpy%EC%9D%98_array(%ED%95%99%EC%83%9D).ipynb\" target=\"_parent\"><img src=\"https://colab.research.google.com/assets/colab-badge.svg\" alt=\"Open In Colab\"/></a>"
      ]
    },
    {
      "cell_type": "markdown",
      "metadata": {
        "id": "hj_EM9SeYCLO"
      },
      "source": [
        "\n",
        "# 파이썬-배열(리스트)\n"
      ]
    },
    {
      "cell_type": "markdown",
      "metadata": {
        "id": "GBmZbBqfYCLQ"
      },
      "source": [
        "## (리스트)  1차원 배열 만들기\n",
        "\n",
        "* [0, 1, 2, 3, 4, 5, 6, 7, 8, 9]"
      ]
    },
    {
      "cell_type": "code",
      "metadata": {
        "id": "SCyMfFk4YCLQ",
        "colab": {
          "base_uri": "https://localhost:8080/"
        },
        "outputId": "a4f63f7b-bfed-428d-e811-998fa757f5e4"
      },
      "source": [
        "색 = ['빨강','노랑','파랑']\n",
        "L1 = [0,1,2,3,4,5,6,7,8,9] \n",
        "# 리스트 변환 함수  list()를 이용하여 [1,3,5,7,9] \n",
        "list(range(1,10,2))"
      ],
      "execution_count": null,
      "outputs": [
        {
          "output_type": "execute_result",
          "data": {
            "text/plain": [
              "[1, 3, 5, 7, 9]"
            ]
          },
          "metadata": {},
          "execution_count": 2
        }
      ]
    },
    {
      "cell_type": "code",
      "source": [
        "# L1 리스트에 인덱스로 값을 확인"
      ],
      "metadata": {
        "id": "QkGNNjpf2RtJ"
      },
      "execution_count": null,
      "outputs": []
    },
    {
      "cell_type": "code",
      "metadata": {
        "id": "XhraufyWYCLR",
        "colab": {
          "base_uri": "https://localhost:8080/"
        },
        "outputId": "8c956acb-69d7-4e2f-b2ba-21aab24682fa"
      },
      "source": [
        "# 리스트의 자료형 확인\n",
        "print(type(L1), L1[0], type(L1[0]))"
      ],
      "execution_count": null,
      "outputs": [
        {
          "output_type": "stream",
          "name": "stdout",
          "text": [
            "<class 'list'> 0 <class 'int'>\n"
          ]
        }
      ]
    },
    {
      "cell_type": "markdown",
      "metadata": {
        "id": "x0ZO3f3cYCLR"
      },
      "source": [
        "# Numpy 모듈\n",
        "\n",
        "## 1차원 배열 만들기\n"
      ]
    },
    {
      "cell_type": "markdown",
      "metadata": {
        "id": "FixY6XQUYCLR"
      },
      "source": [
        "###  array() - Numpy 모듈\n",
        "* 다차원 배열을 처리하는 파이썬의 패키지 중 하나\n",
        "* 외부 패키지인만큼 **import 명령어**를 통해 불러오는 것은 꼭 필요\n",
        "    - **import numpy as np**\n",
        "    - 패키지: Numpy  별명: np\n",
        "    - 형식) np.array  \n",
        "    \n",
        "\n",
        "* reshape(m,n) :형태를 변경 (m*n 행렬)\n"
      ]
    },
    {
      "cell_type": "code",
      "metadata": {
        "id": "gpVQKP-pYCLS",
        "colab": {
          "base_uri": "https://localhost:8080/",
          "height": 35
        },
        "outputId": "496a576a-6756-40d8-fab2-9dffb3cc97b2"
      },
      "source": [
        "import numpy as np \n",
        "np.__version__"
      ],
      "execution_count": null,
      "outputs": [
        {
          "output_type": "execute_result",
          "data": {
            "text/plain": [
              "'1.21.6'"
            ],
            "application/vnd.google.colaboratory.intrinsic+json": {
              "type": "string"
            }
          },
          "metadata": {},
          "execution_count": 2
        }
      ]
    },
    {
      "cell_type": "markdown",
      "source": [
        "# 넘파이 배열 만들기\n",
        "* np.array() : 배열 선언"
      ],
      "metadata": {
        "id": "2IecP58U63YX"
      }
    },
    {
      "cell_type": "code",
      "metadata": {
        "id": "dwxwlmPTYCLS",
        "colab": {
          "base_uri": "https://localhost:8080/"
        },
        "outputId": "2a4c9dca-af12-4321-e74b-22efdf0fe6e0"
      },
      "source": [
        "# 리스트\n",
        "L1 = [0,1,2,3,4,5,6,7,8,9] \n",
        "#넘파이 배열\n",
        "n1 = np.array([1,4,2,3,5] )\n",
        "\n",
        "n1"
      ],
      "execution_count": null,
      "outputs": [
        {
          "output_type": "execute_result",
          "data": {
            "text/plain": [
              "array([1, 4, 2, 3, 5])"
            ]
          },
          "metadata": {},
          "execution_count": 4
        }
      ]
    },
    {
      "cell_type": "code",
      "source": [
        "#자료형 확인하기\n",
        "print(type(L1), type(n1))\n",
        "print(L1[4], n1[1])\n",
        "print(type (L1[4]), type(n1[2]))"
      ],
      "metadata": {
        "id": "E-bH120328YD",
        "colab": {
          "base_uri": "https://localhost:8080/"
        },
        "outputId": "08fa0ce8-78b0-49f0-c0f4-098f4f3d163a"
      },
      "execution_count": null,
      "outputs": [
        {
          "output_type": "stream",
          "name": "stdout",
          "text": [
            "<class 'list'> <class 'numpy.ndarray'>\n",
            "4 4\n",
            "<class 'int'> <class 'numpy.int64'>\n"
          ]
        }
      ]
    },
    {
      "cell_type": "markdown",
      "source": [
        "- range() 와 np.arange()"
      ],
      "metadata": {
        "id": "RtjYtclx8pmP"
      }
    },
    {
      "cell_type": "code",
      "metadata": {
        "id": "_pY5zBRBYCLT",
        "colab": {
          "base_uri": "https://localhost:8080/"
        },
        "outputId": "5e762b96-f9d3-4b01-81c1-54e0621b45fd"
      },
      "source": [
        "# L1 에 0 ~ 20까지 짝수리스트 만들기\n",
        "L1 = list(range(0,21,2))\n",
        "print(L1, type(L1), type(L1[5]))"
      ],
      "execution_count": null,
      "outputs": [
        {
          "output_type": "stream",
          "name": "stdout",
          "text": [
            "[0, 2, 4, 6, 8, 10, 12, 14, 16, 18, 20] <class 'list'> <class 'int'>\n"
          ]
        }
      ]
    },
    {
      "cell_type": "code",
      "source": [
        "# a1 에 0 ~ 20까지 짝수 배열  만들기\n",
        "# arange()함수\n",
        "n1 = np.arange(0, 21, 2)\n",
        "print(n1, type(n1), n1.dtype) # 배열에 있는 자료형으 같은 자료형이다. "
      ],
      "metadata": {
        "id": "_cpF_jbe87NI",
        "colab": {
          "base_uri": "https://localhost:8080/"
        },
        "outputId": "35e6a419-5cd4-4faf-ffe4-c4166c72f311"
      },
      "execution_count": null,
      "outputs": [
        {
          "output_type": "stream",
          "name": "stdout",
          "text": [
            "[ 0  2  4  6  8 10 12 14 16 18 20] <class 'numpy.ndarray'> int64\n"
          ]
        }
      ]
    },
    {
      "cell_type": "code",
      "metadata": {
        "id": "j8whSN3gYCLT"
      },
      "source": [
        "# print() 함수로 출력하는 경우, \n",
        "#리스트와 구분하기 위해 원소 사이에 쉼표 없이 출력\n"
      ],
      "execution_count": null,
      "outputs": []
    },
    {
      "cell_type": "code",
      "source": [],
      "metadata": {
        "id": "UJUI28ukztsX"
      },
      "execution_count": null,
      "outputs": []
    },
    {
      "cell_type": "markdown",
      "source": [
        "\n",
        "- dtype : 배열의 자료형\n"
      ],
      "metadata": {
        "id": "_IecqqO567zE"
      }
    },
    {
      "cell_type": "code",
      "metadata": {
        "id": "1A8uxJzMYCLT",
        "colab": {
          "base_uri": "https://localhost:8080/"
        },
        "outputId": "ca387401-33f5-4039-8d38-b18d637d762b"
      },
      "source": [
        "# 정수와 실수 배열  [3.14,  4, 1, 0.5] \n",
        "# 넘파이의 배열 만들기\n",
        "nf = np.array([3.14,4,1,0.5,'가'])\n",
        " #인덱스[1]의 값 4의 자료형은?\n",
        "print(nf.dtype, nf) # 리스트에서 더 큰 자료형으로 출력 int > float > str"
      ],
      "execution_count": null,
      "outputs": [
        {
          "output_type": "stream",
          "name": "stdout",
          "text": [
            "<U32 ['3.14' '4' '1' '0.5' '가']\n"
          ]
        }
      ]
    },
    {
      "cell_type": "code",
      "source": [
        "# 자료형을 변경 -> 실수형으로 동일하게\n",
        "nf_i =  np.array([1,2,3,4])\n",
        "nf_f =  np.array([1.,2 ,3 ,4.])\n",
        "nf_o =  np.array([1.,2.,3.,4.], dtype=object) # float64(자료형 변경 전 )\n",
        "# dtype속성 을 이용하여 값의 자료형을 변경(dtype = object)\n",
        "print(nf_i.dtype)\n",
        "print(nf_f.dtype)\n",
        "print(nf_o.dtype)"
      ],
      "metadata": {
        "id": "0HgL-S-67pvl",
        "colab": {
          "base_uri": "https://localhost:8080/"
        },
        "outputId": "03bcc009-110f-4f19-b831-f39db900698c"
      },
      "execution_count": null,
      "outputs": [
        {
          "output_type": "stream",
          "name": "stdout",
          "text": [
            "int64\n",
            "float64\n",
            "object\n"
          ]
        }
      ]
    },
    {
      "cell_type": "markdown",
      "source": [
        "## 2 차원 배열 - list"
      ],
      "metadata": {
        "id": "q45hv9HBAWBT"
      }
    },
    {
      "cell_type": "code",
      "metadata": {
        "id": "qpyU2h5JYCLV"
      },
      "source": [
        "# 2 차원 배열 - list\n",
        "L2 = [[1, 3, 4, 6], \n",
        "   [6, 2, 8, 5], \n",
        "   [9, 5, 7, 3]]"
      ],
      "execution_count": null,
      "outputs": []
    },
    {
      "cell_type": "code",
      "metadata": {
        "id": "jSYAvQ0-YCLV",
        "colab": {
          "base_uri": "https://localhost:8080/"
        },
        "outputId": "8ab54287-52d7-4891-ceff-6459c2033860"
      },
      "source": [
        "# 한 행씩 리스트로 출력\n",
        "for 행 in range(len(L2)):\n",
        "    print(L2[행])"
      ],
      "execution_count": null,
      "outputs": [
        {
          "output_type": "stream",
          "name": "stdout",
          "text": [
            "[1, 3, 4, 6]\n",
            "[6, 2, 8, 5]\n",
            "[9, 5, 7, 3]\n"
          ]
        }
      ]
    },
    {
      "cell_type": "code",
      "source": [
        "# 각 각의 값을 출력    \n",
        "for 행 in range(len(L2)):\n",
        "    for 열 in range(len(L2[행])):\n",
        "        print(L2[행][열])"
      ],
      "metadata": {
        "id": "KStTqMs-45-Q",
        "colab": {
          "base_uri": "https://localhost:8080/"
        },
        "outputId": "c02d2eb1-2efa-4c35-f054-f25ec1c34eb4"
      },
      "execution_count": null,
      "outputs": [
        {
          "output_type": "stream",
          "name": "stdout",
          "text": [
            "1\n",
            "3\n",
            "4\n",
            "6\n",
            "6\n",
            "2\n",
            "8\n",
            "5\n",
            "9\n",
            "5\n",
            "7\n",
            "3\n"
          ]
        }
      ]
    },
    {
      "cell_type": "markdown",
      "metadata": {
        "id": "FML1fZQhYCLV"
      },
      "source": [
        "## 2 차원 배열 - numpy모듈"
      ]
    },
    {
      "cell_type": "code",
      "metadata": {
        "id": "qhuwMuuFYCLV",
        "colab": {
          "base_uri": "https://localhost:8080/"
        },
        "outputId": "3d368841-0f02-4b9c-8686-43ae90e035bd"
      },
      "source": [
        "import numpy as np\n",
        "# 2 차원 배열 - numpy\n",
        "# numpy의 random 모듈\n",
        "r1  = np.random.random(5)\n",
        "print(r1)"
      ],
      "execution_count": null,
      "outputs": [
        {
          "output_type": "stream",
          "name": "stdout",
          "text": [
            "[0.2234109  0.21466076 0.58986046 0.83535337 0.99400104]\n"
          ]
        }
      ]
    },
    {
      "cell_type": "code",
      "source": [
        "#3행4열 의 배열 만들기 \n",
        "#size를 (행, 열)순으로 정의\n",
        "r2 = np.random.random((3,4))\n",
        "print(r2)\n"
      ],
      "metadata": {
        "id": "_6M8RBPWAoob",
        "colab": {
          "base_uri": "https://localhost:8080/"
        },
        "outputId": "ab157f53-1853-43f0-e6b0-07e14f183aa3"
      },
      "execution_count": null,
      "outputs": [
        {
          "output_type": "stream",
          "name": "stdout",
          "text": [
            "[[0.10327038 0.59181932 0.57726449 0.42329527]\n",
            " [0.33842858 0.92469157 0.99271852 0.96195551]\n",
            " [0.27737789 0.05218273 0.66002975 0.73400542]]\n"
          ]
        }
      ]
    },
    {
      "cell_type": "markdown",
      "source": [
        "- ndim : 차원 \n",
        "- shape: 차원별로 몇개의 원소로 구성되었는지 관리하는 형상\n",
        "- itemsize  : 원소 하나의 길이"
      ],
      "metadata": {
        "id": "TqG9rkzP9eTl"
      }
    },
    {
      "cell_type": "code",
      "source": [
        "print(r1.ndim, r2.ndim)\n",
        "print(r1.shape, r2.shape)\n",
        "print(r1.itemsize, r2.itemsize)"
      ],
      "metadata": {
        "id": "GDzwnET59jO7",
        "colab": {
          "base_uri": "https://localhost:8080/"
        },
        "outputId": "002e8218-7de6-44b1-fa45-0f2fbc54acd2"
      },
      "execution_count": null,
      "outputs": [
        {
          "output_type": "stream",
          "name": "stdout",
          "text": [
            "1 2\n",
            "(5,) (3, 4)\n",
            "8 8\n"
          ]
        }
      ]
    },
    {
      "cell_type": "markdown",
      "metadata": {
        "id": "qwonrPY9YCLW"
      },
      "source": [
        "##  2차원배열로 수정\n",
        "- .reshape(행,열)  수정"
      ]
    },
    {
      "cell_type": "code",
      "metadata": {
        "id": "V0CZBdnWYCLW",
        "colab": {
          "base_uri": "https://localhost:8080/"
        },
        "outputId": "ddce4730-5890-4cd9-d23c-5690d39e866b"
      },
      "source": [
        "# 1차원 배열 생성\n",
        "# range 함수, arange()\n",
        "# [1, 2, 3, 4, 5, 6, 7, 8, 9]\n",
        "r3 = np.arange(1,10)\n",
        "r3.ndim # 1, 1차원 배열"
      ],
      "execution_count": null,
      "outputs": [
        {
          "output_type": "execute_result",
          "data": {
            "text/plain": [
              "1"
            ]
          },
          "metadata": {},
          "execution_count": 8
        }
      ]
    },
    {
      "cell_type": "code",
      "metadata": {
        "id": "BNOoFm2iYCLW"
      },
      "source": [
        "# .reshape((3, 3))  \n",
        "# 1차원행렬을 (3행 3열) 으로 수정\n",
        "r4 = r3.reshape((3,3))"
      ],
      "execution_count": null,
      "outputs": []
    },
    {
      "cell_type": "code",
      "metadata": {
        "id": "tXiKSuV9YCLW",
        "colab": {
          "base_uri": "https://localhost:8080/"
        },
        "outputId": "d4900c51-f582-4224-f6c9-6e65a559ddc6"
      },
      "source": [
        "#dtype : 배열의 자료형\n",
        "\n",
        "#ndim : 차원 \n",
        "\n",
        "#shape: 차원별로 몇개의 원소로 구성되었는지 관리하는 형상\n",
        "r4.reshape\n",
        "#itemsize  : 원소 하나의 길이\n"
      ],
      "execution_count": null,
      "outputs": [
        {
          "output_type": "execute_result",
          "data": {
            "text/plain": [
              "<function ndarray.reshape>"
            ]
          },
          "metadata": {},
          "execution_count": 10
        }
      ]
    },
    {
      "cell_type": "markdown",
      "metadata": {
        "id": "k0PkLN6mYCLW"
      },
      "source": [
        "##  처리속도 비교"
      ]
    },
    {
      "cell_type": "code",
      "metadata": {
        "id": "P0IoYnRSYCLW"
      },
      "source": [
        "# 1,000,000 개의 데이터가 있을때 처리 속도 비교\n",
        "\n",
        "big_array = np.random.rand(1000000) # 1,000,000 개의 데이터 생성\n"
      ],
      "execution_count": null,
      "outputs": []
    },
    {
      "cell_type": "code",
      "metadata": {
        "id": "cYSqE53tYCLX",
        "colab": {
          "base_uri": "https://localhost:8080/"
        },
        "outputId": "345b96a2-a3c0-4544-f487-ce0cd6000865"
      },
      "source": [
        "# sum() 함수로  # 1,000,000 개의 데이터의 합계 계산 처리속도\n",
        "%timeit sum(big_array)  \n",
        "#  1 ms = 1000 µs\n",
        "# "
      ],
      "execution_count": null,
      "outputs": [
        {
          "output_type": "stream",
          "name": "stdout",
          "text": [
            "10 loops, best of 5: 87 ms per loop\n"
          ]
        }
      ]
    },
    {
      "cell_type": "code",
      "metadata": {
        "id": "gbP1-6u-YCLX",
        "colab": {
          "base_uri": "https://localhost:8080/"
        },
        "outputId": "1a916319-1c9b-4bc5-e933-a8a3f1c60907"
      },
      "source": [
        "# Numpy 패키지의  함수중 sum()\n",
        "%timeit np.sum(big_array)"
      ],
      "execution_count": null,
      "outputs": [
        {
          "output_type": "stream",
          "name": "stdout",
          "text": [
            "1000 loops, best of 5: 375 µs per loop\n"
          ]
        }
      ]
    },
    {
      "cell_type": "markdown",
      "source": [
        "# 넘파이(array)와 파이썬(list) 차이"
      ],
      "metadata": {
        "id": "DL3rIRJvzvVC"
      }
    },
    {
      "cell_type": "code",
      "source": [
        "L1 = [10, 5, 3, 7, 1, 5]\n",
        "L2 =  [1,2,3,4,5,6] \n",
        "\n",
        "L1 + L2\n",
        "# L1 - L2\n",
        "# L1 * L2\n",
        "# L1 / L2"
      ],
      "metadata": {
        "id": "ZC6ZlAMcz_ck",
        "colab": {
          "base_uri": "https://localhost:8080/"
        },
        "outputId": "8491525a-23d2-4aa1-aa6b-bcaaef0e9eaf"
      },
      "execution_count": null,
      "outputs": [
        {
          "output_type": "execute_result",
          "data": {
            "text/plain": [
              "[10, 5, 3, 7, 1, 5, 1, 2, 3, 4, 5, 6]"
            ]
          },
          "metadata": {},
          "execution_count": 52
        }
      ]
    },
    {
      "cell_type": "code",
      "source": [
        "import numpy as np\n",
        " \n",
        "arr1 = np.array([10, 5, 3, 7, 1, 5])\n",
        "arr2 = np.array([1,2,3,4,5,6] )"
      ],
      "metadata": {
        "id": "LDiW7mO-0csY"
      },
      "execution_count": null,
      "outputs": []
    },
    {
      "cell_type": "code",
      "source": [
        "print(arr1 + arr2)\n",
        "print(arr1 - arr2)\n",
        "print(arr1 * arr2)\n",
        "print(arr1 / arr2)"
      ],
      "metadata": {
        "id": "CIyZUzIm0qls",
        "colab": {
          "base_uri": "https://localhost:8080/"
        },
        "outputId": "d075af1f-91c4-4e80-d53f-082d8bf1720c"
      },
      "execution_count": null,
      "outputs": [
        {
          "output_type": "stream",
          "name": "stdout",
          "text": [
            "[11  7  6 11  6 11]\n",
            "[ 9  3  0  3 -4 -1]\n",
            "[10 10  9 28  5 30]\n",
            "[10.          2.5         1.          1.75        0.2         0.83333333]\n"
          ]
        }
      ]
    },
    {
      "cell_type": "markdown",
      "source": [
        "# Numpy \n",
        "- array에서 숫자인덱스만 가능\n",
        "- 모든 값이 같은 자료형\n",
        "\n",
        "- DateFrame은 표 형식의 데이터를 담기위한 자료형으로 2차원 numpy array에 부가적인 기능이 추가된 것이다. \n",
        "    - (DataFrame이 numpy array를 기반으로 만들어져 있어서 pandas를 쓰려면 numpy가 먼저 설치되어 있어야한다.)"
      ],
      "metadata": {
        "id": "p46LbQDv1Czb"
      }
    }
  ]
}