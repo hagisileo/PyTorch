{
  "nbformat": 4,
  "nbformat_minor": 0,
  "metadata": {
    "colab": {
      "provenance": [],
      "collapsed_sections": [],
      "include_colab_link": true
    },
    "kernelspec": {
      "name": "python3",
      "display_name": "Python 3"
    },
    "language_info": {
      "name": "python"
    }
  },
  "cells": [
    {
      "cell_type": "markdown",
      "metadata": {
        "id": "view-in-github",
        "colab_type": "text"
      },
      "source": [
        "<a href=\"https://colab.research.google.com/github/hagisileo/PyTorch/blob/master/07_%EC%9E%90%EB%A3%8C%ED%98%95(%ED%8A%9C%ED%94%8C)_%ED%95%99%EC%83%9D.ipynb\" target=\"_parent\"><img src=\"https://colab.research.google.com/assets/colab-badge.svg\" alt=\"Open In Colab\"/></a>"
      ]
    },
    {
      "cell_type": "markdown",
      "source": [
        "#  튜플(Tuple)\n",
        "\n",
        "\n",
        "\n",
        "```\n",
        "튜플(tuple)은 리스트와 거의 비슷하며 다른 점은 다음과 같다.\n",
        "리스트는 [ ]으로 둘러싸지만 튜플은 ( )으로 둘러싼다.\n",
        "리스트는 그 값의 생성, 삭제, 수정이 가능하지만 튜플은 그 값을 바꿀 수 없다.\n",
        "즉, **튜플의 요소값은 한 번 정하면 지우거나 변경할 수 없다.**\n",
        "```\n",
        "\n"
      ],
      "metadata": {
        "id": "ITq6c05JlVRu"
      }
    },
    {
      "cell_type": "code",
      "execution_count": null,
      "metadata": {
        "id": "XEaL4rWhlPwE"
      },
      "outputs": [],
      "source": [
        "t1 = ()\n",
        "t2 = (1,)\n",
        "t3 = (1, 2, 3)\n",
        "t4 = 1, 2, 3\n",
        "t5 = ('a', 'b', ('ab', 'cd'))\n",
        "\n"
      ]
    },
    {
      "cell_type": "markdown",
      "source": [
        "##  튜플 요소값을 삭제하려 할 때"
      ],
      "metadata": {
        "id": "TGbf9Sqdlmrd"
      }
    },
    {
      "cell_type": "code",
      "source": [
        "t1 = (1, 2, 'a', 'b')\n",
        "del t1 [0] #TypeError: 'tuple' object doesn't support item deletion"
      ],
      "metadata": {
        "id": "k8otKUBylkGe",
        "colab": {
          "base_uri": "https://localhost:8080/",
          "height": 193
        },
        "outputId": "db61e3db-3118-4aa3-9afb-3111899e8120"
      },
      "execution_count": 1,
      "outputs": [
        {
          "output_type": "error",
          "ename": "TypeError",
          "evalue": "ignored",
          "traceback": [
            "\u001b[0;31m---------------------------------------------------------------------------\u001b[0m",
            "\u001b[0;31mTypeError\u001b[0m                                 Traceback (most recent call last)",
            "\u001b[0;32m<ipython-input-1-aac50fb7c07e>\u001b[0m in \u001b[0;36m<module>\u001b[0;34m\u001b[0m\n\u001b[1;32m      1\u001b[0m \u001b[0mt1\u001b[0m \u001b[0;34m=\u001b[0m \u001b[0;34m(\u001b[0m\u001b[0;36m1\u001b[0m\u001b[0;34m,\u001b[0m \u001b[0;36m2\u001b[0m\u001b[0;34m,\u001b[0m \u001b[0;34m'a'\u001b[0m\u001b[0;34m,\u001b[0m \u001b[0;34m'b'\u001b[0m\u001b[0;34m)\u001b[0m\u001b[0;34m\u001b[0m\u001b[0;34m\u001b[0m\u001b[0m\n\u001b[0;32m----> 2\u001b[0;31m \u001b[0;32mdel\u001b[0m \u001b[0mt1\u001b[0m \u001b[0;34m[\u001b[0m\u001b[0;36m0\u001b[0m\u001b[0;34m]\u001b[0m \u001b[0;31m#TypeError: 'tuple' object doesn't support item deletion\u001b[0m\u001b[0;34m\u001b[0m\u001b[0;34m\u001b[0m\u001b[0m\n\u001b[0m",
            "\u001b[0;31mTypeError\u001b[0m: 'tuple' object doesn't support item deletion"
          ]
        }
      ]
    },
    {
      "cell_type": "markdown",
      "source": [
        "##  튜플 요소값을 변경하려 할 때"
      ],
      "metadata": {
        "id": "11SRO5-plqpc"
      }
    },
    {
      "cell_type": "code",
      "source": [
        "t1 = (1, 2, 'a', 'b')\n",
        "t1[0] = 'c' #TypeError: 'tuple' object does not support item assignment"
      ],
      "metadata": {
        "id": "n7hKbr6SlkDb",
        "colab": {
          "base_uri": "https://localhost:8080/",
          "height": 193
        },
        "outputId": "0eb7f666-ffb6-47e4-d109-e1787c69fbfe"
      },
      "execution_count": null,
      "outputs": [
        {
          "output_type": "error",
          "ename": "TypeError",
          "evalue": "ignored",
          "traceback": [
            "\u001b[0;31m---------------------------------------------------------------------------\u001b[0m",
            "\u001b[0;31mTypeError\u001b[0m                                 Traceback (most recent call last)",
            "\u001b[0;32m<ipython-input-5-0caf41146829>\u001b[0m in \u001b[0;36m<module>\u001b[0;34m()\u001b[0m\n\u001b[1;32m      1\u001b[0m \u001b[0mt1\u001b[0m \u001b[0;34m=\u001b[0m \u001b[0;34m(\u001b[0m\u001b[0;36m1\u001b[0m\u001b[0;34m,\u001b[0m \u001b[0;36m2\u001b[0m\u001b[0;34m,\u001b[0m \u001b[0;34m'a'\u001b[0m\u001b[0;34m,\u001b[0m \u001b[0;34m'b'\u001b[0m\u001b[0;34m)\u001b[0m\u001b[0;34m\u001b[0m\u001b[0;34m\u001b[0m\u001b[0m\n\u001b[0;32m----> 2\u001b[0;31m \u001b[0mt1\u001b[0m\u001b[0;34m[\u001b[0m\u001b[0;36m0\u001b[0m\u001b[0;34m]\u001b[0m \u001b[0;34m=\u001b[0m \u001b[0;34m'c'\u001b[0m \u001b[0;31m#TypeError: 'tuple' object does not support item assignment\u001b[0m\u001b[0;34m\u001b[0m\u001b[0;34m\u001b[0m\u001b[0m\n\u001b[0m",
            "\u001b[0;31mTypeError\u001b[0m: 'tuple' object does not support item assignment"
          ]
        }
      ]
    },
    {
      "cell_type": "markdown",
      "source": [
        "##  튜플 인덱싱"
      ],
      "metadata": {
        "id": "M5Rn_SlGly8E"
      }
    },
    {
      "cell_type": "code",
      "source": [
        "\n",
        "print(t1[0])\n",
        "print(t1[3])\n"
      ],
      "metadata": {
        "id": "UvQDtHVAlkAW",
        "colab": {
          "base_uri": "https://localhost:8080/"
        },
        "outputId": "44536025-e87c-48d2-81e3-02e6237c6e95"
      },
      "execution_count": null,
      "outputs": [
        {
          "output_type": "stream",
          "name": "stdout",
          "text": [
            "1\n",
            "b\n"
          ]
        }
      ]
    },
    {
      "cell_type": "markdown",
      "source": [
        "## 튜플 슬라이싱"
      ],
      "metadata": {
        "id": "3zfo9EF9l6P-"
      }
    },
    {
      "cell_type": "code",
      "source": [
        "t1\n",
        "t1[2:]"
      ],
      "metadata": {
        "id": "GzTpCn0Plj86",
        "colab": {
          "base_uri": "https://localhost:8080/"
        },
        "outputId": "7286a6ad-676f-439d-8a31-3ceacb7016b3"
      },
      "execution_count": null,
      "outputs": [
        {
          "output_type": "execute_result",
          "data": {
            "text/plain": [
              "('a', 'b')"
            ]
          },
          "metadata": {},
          "execution_count": 7
        }
      ]
    },
    {
      "cell_type": "markdown",
      "source": [
        "## 튜플 더하기"
      ],
      "metadata": {
        "id": "4J-CJfLomCK9"
      }
    },
    {
      "cell_type": "code",
      "source": [
        "t1 = (1, 2, 'a', 'b')\n",
        "t2 = (3, 4)\n",
        "\n",
        "t1 + t2"
      ],
      "metadata": {
        "id": "MoOZZYoalj5f",
        "colab": {
          "base_uri": "https://localhost:8080/"
        },
        "outputId": "dc70e8b2-76d6-4aac-e1c1-7be195fc4bef"
      },
      "execution_count": null,
      "outputs": [
        {
          "output_type": "execute_result",
          "data": {
            "text/plain": [
              "(1, 2, 'a', 'b', 3, 4)"
            ]
          },
          "metadata": {},
          "execution_count": 8
        }
      ]
    },
    {
      "cell_type": "markdown",
      "source": [
        "## 튜플 곱하기(반복하기)"
      ],
      "metadata": {
        "id": "pUD8MgzlmIgn"
      }
    },
    {
      "cell_type": "code",
      "source": [
        "t2 = (3, 4)\n",
        "\n",
        "t2*3\n"
      ],
      "metadata": {
        "id": "bGG30dKqlj1n",
        "colab": {
          "base_uri": "https://localhost:8080/"
        },
        "outputId": "b4f602f7-4399-49ec-982c-ec3b770b21f0"
      },
      "execution_count": null,
      "outputs": [
        {
          "output_type": "execute_result",
          "data": {
            "text/plain": [
              "(3, 4, 3, 4, 3, 4)"
            ]
          },
          "metadata": {},
          "execution_count": 9
        }
      ]
    },
    {
      "cell_type": "markdown",
      "source": [
        "##  튜플 길이 구하기"
      ],
      "metadata": {
        "id": "OZPTmiPqmMp0"
      }
    },
    {
      "cell_type": "code",
      "source": [
        "len(t1)"
      ],
      "metadata": {
        "id": "Le8k-xYtmPld",
        "colab": {
          "base_uri": "https://localhost:8080/"
        },
        "outputId": "31423361-4dff-4ccc-d46b-4331113d076a"
      },
      "execution_count": null,
      "outputs": [
        {
          "output_type": "execute_result",
          "data": {
            "text/plain": [
              "4"
            ]
          },
          "metadata": {},
          "execution_count": 10
        }
      ]
    }
  ]
}