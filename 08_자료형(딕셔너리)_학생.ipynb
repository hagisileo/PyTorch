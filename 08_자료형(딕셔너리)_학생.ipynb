{
  "nbformat": 4,
  "nbformat_minor": 0,
  "metadata": {
    "colab": {
      "provenance": [],
      "collapsed_sections": [],
      "include_colab_link": true
    },
    "kernelspec": {
      "name": "python3",
      "display_name": "Python 3"
    },
    "language_info": {
      "name": "python"
    }
  },
  "cells": [
    {
      "cell_type": "markdown",
      "metadata": {
        "id": "view-in-github",
        "colab_type": "text"
      },
      "source": [
        "<a href=\"https://colab.research.google.com/github/hagisileo/PyTorch/blob/master/08_%EC%9E%90%EB%A3%8C%ED%98%95(%EB%94%95%EC%85%94%EB%84%88%EB%A6%AC)_%ED%95%99%EC%83%9D.ipynb\" target=\"_parent\"><img src=\"https://colab.research.google.com/assets/colab-badge.svg\" alt=\"Open In Colab\"/></a>"
      ]
    },
    {
      "cell_type": "markdown",
      "metadata": {
        "id": "HIr5lbuUk3PF"
      },
      "source": [
        "# 딕셔너리\n",
        "\n",
        "- 사전(dictionary)에서 단어를 찾듯이 값을 가져올 수 있다 \n",
        "- { }(중괄호) 안에 키: 값 형식으로 저장하며 각 키와 값은 ,(콤마)로 구분\n",
        "- {Key1:Value1, Key2:Value2, Key3:Value3, ...}\n",
        "\n",
        "\n",
        "\n",
        "<img src = 'https://github.com/teacher-jiejie/allinone_AI/blob/images/12_%EB%94%95%EC%85%94%EB%84%88%EB%A6%AC.png?raw=true' width =600>\n",
        "\n",
        "<br/>\n",
        "<br/>\n",
        "<img src='https://github.com/teacher-jiejie/allinone_AI/blob/images/72_%EB%94%95%EC%85%94%EB%84%88%EB%A6%AC%20%EB%A6%AC%EC%8A%A4%ED%8A%B8%20%EB%B9%84%EA%B5%90.png?raw=true' width =400>\n",
        "\n",
        "<br/>\n",
        "\n",
        "```\n",
        "딕셔너리이름 = {키1 : 값1, 키2 : 값2, ... 키n : 값n}\n",
        "```\n",
        "\n",
        "**딕셔너리 만들 때 주의할 사항**<br>\n",
        "딕셔너리에서 Key는 고유한 값이므로 중복되는 Key 값을 설정해 놓으면 **하나를 제외한 나머지 것들이 모두 무시**된다는 점을 주의해야 한다. <br>\n",
        "이렇게 Key가 중복되었을 때 1개를 제외한 나머지 Key:Value 값이 모두 무시되는 이유는 Key를 통해서 Value를 얻는 딕셔너리의 특징에서 비롯된다. 즉 동일한 Key가 존재하면 어떤 Key에 해당하는 Value를 불러야 할지 알 수 없기 때문이다.<br>\n",
        "\n",
        "또 한 가지 주의해야 할 사항은 **Key에 리스트는 쓸 수 없다**는 것이다. 하지만 튜플은 Key로 쓸 수 있다."
      ]
    },
    {
      "cell_type": "code",
      "source": [
        "lst['홍길동',20221234, '01012345678']\n",
        "lst[0] #''홍길동'"
      ],
      "metadata": {
        "id": "ghpOMrxgyuZW",
        "colab": {
          "base_uri": "https://localhost:8080/",
          "height": 193
        },
        "outputId": "b6edf174-f981-48ad-a856-621e20fe4773"
      },
      "execution_count": null,
      "outputs": [
        {
          "output_type": "error",
          "ename": "NameError",
          "evalue": "ignored",
          "traceback": [
            "\u001b[0;31m---------------------------------------------------------------------------\u001b[0m",
            "\u001b[0;31mNameError\u001b[0m                                 Traceback (most recent call last)",
            "\u001b[0;32m<ipython-input-6-c9cf3fc0a303>\u001b[0m in \u001b[0;36m<module>\u001b[0;34m()\u001b[0m\n\u001b[0;32m----> 1\u001b[0;31m \u001b[0mlst\u001b[0m\u001b[0;34m[\u001b[0m\u001b[0;34m'홍길동'\u001b[0m\u001b[0;34m,\u001b[0m\u001b[0;36m20221234\u001b[0m\u001b[0;34m,\u001b[0m \u001b[0;34m'01012345678'\u001b[0m\u001b[0;34m]\u001b[0m\u001b[0;34m\u001b[0m\u001b[0;34m\u001b[0m\u001b[0m\n\u001b[0m\u001b[1;32m      2\u001b[0m \u001b[0mlst\u001b[0m\u001b[0;34m[\u001b[0m\u001b[0;36m0\u001b[0m\u001b[0;34m]\u001b[0m\u001b[0;34m\u001b[0m\u001b[0;34m\u001b[0m\u001b[0m\n",
            "\u001b[0;31mNameError\u001b[0m: name 'lst' is not defined"
          ]
        }
      ]
    },
    {
      "cell_type": "code",
      "source": [
        "dic = {'name':'홍길동', '학번':20221234, '전화번호': '01012345678'}\n",
        "dic['name']"
      ],
      "metadata": {
        "colab": {
          "base_uri": "https://localhost:8080/",
          "height": 35
        },
        "id": "9j1FJmoL2UEe",
        "outputId": "0d7183c5-24c9-42f4-8d7b-42745a4b0eb7"
      },
      "execution_count": null,
      "outputs": [
        {
          "output_type": "execute_result",
          "data": {
            "text/plain": [
              "'홍길동'"
            ],
            "application/vnd.google.colaboratory.intrinsic+json": {
              "type": "string"
            }
          },
          "metadata": {},
          "execution_count": 1
        }
      ]
    },
    {
      "cell_type": "code",
      "metadata": {
        "id": "nR_YUVLfkmid"
      },
      "source": [
        "#딕셔너리 정의\n",
        "menu = {'김밥':2500, '참치김밥': 3500, '라면':3000, '치즈라면': 4000}\n"
      ],
      "execution_count": null,
      "outputs": []
    },
    {
      "cell_type": "markdown",
      "source": [
        "# 딕셔너리 추가"
      ],
      "metadata": {
        "id": "DVfaVxL6cxEC"
      }
    },
    {
      "cell_type": "code",
      "metadata": {
        "id": "jXomLOI3mt9F",
        "colab": {
          "base_uri": "https://localhost:8080/"
        },
        "outputId": "79ba108f-63d4-4f45-9a7f-b5f6860b790b"
      },
      "source": [
        "# 추가\n",
        "# 돈가스,6000원 추가\n",
        "menu['돈까스'] = 6000\n",
        "\n",
        "menu"
      ],
      "execution_count": null,
      "outputs": [
        {
          "output_type": "execute_result",
          "data": {
            "text/plain": [
              "{'김밥': 2500, '돈까스': 6000, '라면': 3000, '참치김밥': 3500, '치즈라면': 4000}"
            ]
          },
          "metadata": {},
          "execution_count": 10
        }
      ]
    },
    {
      "cell_type": "code",
      "source": [
        "# 그밖의 메뉴 으로 ['떡복이','오뎅','순대']을 정의\n",
        "menu['그밖의 메뉴'] = ['떡복이','오뎅','순대']\n",
        "\n",
        "menu"
      ],
      "metadata": {
        "id": "uQcj0ddTdGWq",
        "colab": {
          "base_uri": "https://localhost:8080/"
        },
        "outputId": "4f5679e0-e27e-40f9-bf62-eb1403df0d32"
      },
      "execution_count": null,
      "outputs": [
        {
          "output_type": "execute_result",
          "data": {
            "text/plain": [
              "{'그밖의 메뉴': ['떡복이', '오뎅', '순대'],\n",
              " '김밥': 2500,\n",
              " '돈까스': 6000,\n",
              " '라면': 3000,\n",
              " '참치김밥': 3500,\n",
              " '치즈라면': 4000}"
            ]
          },
          "metadata": {},
          "execution_count": 12
        }
      ]
    },
    {
      "cell_type": "markdown",
      "source": [
        "#딕셔너리 요소 삭제하기\n"
      ],
      "metadata": {
        "id": "s5LOrSzEduUl"
      }
    },
    {
      "cell_type": "code",
      "source": [
        "del menu['김밥']\n",
        "\n",
        "menu"
      ],
      "metadata": {
        "id": "U6nQxgWgeA6E",
        "colab": {
          "base_uri": "https://localhost:8080/"
        },
        "outputId": "9dbeedcd-4fcf-4160-c327-3d1c932715c5"
      },
      "execution_count": null,
      "outputs": [
        {
          "output_type": "execute_result",
          "data": {
            "text/plain": [
              "{'라면': 3000, '참치김밥': 3500, '치즈라면': 4000}"
            ]
          },
          "metadata": {},
          "execution_count": 19
        }
      ]
    },
    {
      "cell_type": "markdown",
      "source": [
        "#딕셔너리 키 이용한 값 \n"
      ],
      "metadata": {
        "id": "D5l7AfFmeKLE"
      }
    },
    {
      "cell_type": "code",
      "source": [
        "menu = {'김밥':2500, '참치김밥': 3500, '라면':3000, '치즈라면': 4000}"
      ],
      "metadata": {
        "id": "N0oH5qpfeUPb"
      },
      "execution_count": null,
      "outputs": []
    },
    {
      "cell_type": "code",
      "source": [
        "menu['김밥']"
      ],
      "metadata": {
        "id": "NqRtQJqyeT9z",
        "colab": {
          "base_uri": "https://localhost:8080/"
        },
        "outputId": "8c6b4878-e805-4eaf-eae8-1decd2a6d178"
      },
      "execution_count": null,
      "outputs": [
        {
          "output_type": "execute_result",
          "data": {
            "text/plain": [
              "2500"
            ]
          },
          "metadata": {},
          "execution_count": 21
        }
      ]
    },
    {
      "cell_type": "markdown",
      "metadata": {
        "id": "MV2BpKC4l5ab"
      },
      "source": [
        "#딕셔너리의 키와 값\n",
        "\n",
        "딕셔너리의 키만 꺼내기 \n",
        "> 딕셔너리이름.keys()\n",
        "\n",
        "<br/>\n",
        "\n",
        "딕셔너리의 값(value)만 꺼내기 \n",
        "> 딕셔너리이름.values()\n",
        "\n",
        "<br/>\n",
        "\n",
        "딕셔너리의 키-값 모두 꺼내기 \n",
        ">딕셔너리이름.items()"
      ]
    },
    {
      "cell_type": "code",
      "metadata": {
        "id": "DXX_OvkAHwpZ",
        "colab": {
          "base_uri": "https://localhost:8080/"
        },
        "outputId": "2370c085-b5a0-4527-9cb7-930892a3d439"
      },
      "source": [
        "menu = {'김밥':2500, '참치김밥': 3500, '라면':3000, '치즈라면': 4000}\n",
        "#menu 딕셔너리: 키확인\n",
        "menu.keys()"
      ],
      "execution_count": null,
      "outputs": [
        {
          "output_type": "execute_result",
          "data": {
            "text/plain": [
              "dict_keys(['김밥', '참치김밥', '라면', '치즈라면'])"
            ]
          },
          "metadata": {},
          "execution_count": 22
        }
      ]
    },
    {
      "cell_type": "code",
      "metadata": {
        "id": "0DV55KHaIWgw",
        "colab": {
          "base_uri": "https://localhost:8080/"
        },
        "outputId": "dc29048a-05ab-4986-ce81-920e1d5136c1"
      },
      "source": [
        "#menu 딕셔너리: 값확인\n",
        "menu.values()"
      ],
      "execution_count": null,
      "outputs": [
        {
          "output_type": "execute_result",
          "data": {
            "text/plain": [
              "dict_values([2500, 3500, 3000, 4000])"
            ]
          },
          "metadata": {},
          "execution_count": 23
        }
      ]
    },
    {
      "cell_type": "code",
      "metadata": {
        "id": "TLymlSQpIWe8",
        "colab": {
          "base_uri": "https://localhost:8080/"
        },
        "outputId": "d64a1e04-1156-41ca-e5ec-6525dd7e806e"
      },
      "source": [
        "#menu 딕셔너리: 키,값확인\n",
        "menu.items() # type: tuple "
      ],
      "execution_count": null,
      "outputs": [
        {
          "output_type": "execute_result",
          "data": {
            "text/plain": [
              "dict_items([('김밥', 2500), ('참치김밥', 3500), ('라면', 3000), ('치즈라면', 4000)])"
            ]
          },
          "metadata": {},
          "execution_count": 24
        }
      ]
    },
    {
      "cell_type": "code",
      "metadata": {
        "id": "hhowVdC3IWdJ",
        "colab": {
          "base_uri": "https://localhost:8080/"
        },
        "outputId": "0e32d87d-165f-4b0f-a72a-85e028669b88"
      },
      "source": [
        "# 딕셔너리의 키를 리스트로 변환하기\n",
        "list(menu.keys())"
      ],
      "execution_count": null,
      "outputs": [
        {
          "output_type": "execute_result",
          "data": {
            "text/plain": [
              "['김밥', '참치김밥', '라면', '치즈라면']"
            ]
          },
          "metadata": {},
          "execution_count": 25
        }
      ]
    },
    {
      "cell_type": "code",
      "metadata": {
        "id": "2gzBfJX9IWbN",
        "colab": {
          "base_uri": "https://localhost:8080/"
        },
        "outputId": "e2d1fa82-a043-45bd-ee44-862578291216"
      },
      "source": [
        "# 딕셔너리의 값을 리스트로 변환하기\n",
        "list(menu.values())"
      ],
      "execution_count": null,
      "outputs": [
        {
          "output_type": "execute_result",
          "data": {
            "text/plain": [
              "[2500, 3500, 3000, 4000]"
            ]
          },
          "metadata": {},
          "execution_count": 29
        }
      ]
    },
    {
      "cell_type": "markdown",
      "source": [
        "# 판다스 데이터프레임에서 딕셔너리"
      ],
      "metadata": {
        "id": "VIFEq6vsyUJp"
      }
    },
    {
      "cell_type": "code",
      "source": [
        "#키를 학번, 값을 이름 으로 정의\n",
        "학생={20221234 : '홍길동', 20221235 : '강나라' }"
      ],
      "metadata": {
        "id": "yYmsHrpYWF-h"
      },
      "execution_count": null,
      "outputs": []
    },
    {
      "cell_type": "code",
      "source": [
        "학생={'이름': ['홍길동','강나라', '배두나'], '성적':[90,80,100] , '이수학점':[15,18,21]}\n"
      ],
      "metadata": {
        "id": "bm6jH7Z_x8EY"
      },
      "execution_count": null,
      "outputs": []
    },
    {
      "cell_type": "markdown",
      "source": [
        "딕셔너리 데이터 포맷을 판다스의 데이터프레임 자료구조로 변환한다.<br>\n",
        "![image.png](data:image/png;base64,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)\n"
      ],
      "metadata": {
        "id": "JlkhhQCP2Fgj"
      }
    }
  ]
}