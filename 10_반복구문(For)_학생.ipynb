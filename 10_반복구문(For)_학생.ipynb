{
  "nbformat": 4,
  "nbformat_minor": 0,
  "metadata": {
    "colab": {
      "provenance": [],
      "collapsed_sections": [],
      "include_colab_link": true
    },
    "kernelspec": {
      "name": "python3",
      "display_name": "Python 3"
    },
    "language_info": {
      "name": "python"
    }
  },
  "cells": [
    {
      "cell_type": "markdown",
      "metadata": {
        "id": "view-in-github",
        "colab_type": "text"
      },
      "source": [
        "<a href=\"https://colab.research.google.com/github/hagisileo/PyTorch/blob/master/10_%EB%B0%98%EB%B3%B5%EA%B5%AC%EB%AC%B8(For)_%ED%95%99%EC%83%9D.ipynb\" target=\"_parent\"><img src=\"https://colab.research.google.com/assets/colab-badge.svg\" alt=\"Open In Colab\"/></a>"
      ]
    },
    {
      "cell_type": "markdown",
      "metadata": {
        "id": "FKL6e4h6dMYC"
      },
      "source": [
        "# 반복문\n"
      ]
    },
    {
      "cell_type": "markdown",
      "metadata": {
        "id": "84Ap62S2Xrt4"
      },
      "source": [
        "## For 반복문\n",
        "- for 문 - 정해진 횟수만큼 반복하는 구조"
      ]
    },
    {
      "cell_type": "code",
      "source": [
        "[1,2,3,4,5,6]\n",
        "list(range(1, 100))"
      ],
      "metadata": {
        "colab": {
          "base_uri": "https://localhost:8080/"
        },
        "id": "BYVuqDouzj7o",
        "outputId": "ed4b747e-c2b9-4e18-ecae-0f1aa0083efd"
      },
      "execution_count": null,
      "outputs": [
        {
          "output_type": "execute_result",
          "data": {
            "text/plain": [
              "[1,\n",
              " 2,\n",
              " 3,\n",
              " 4,\n",
              " 5,\n",
              " 6,\n",
              " 7,\n",
              " 8,\n",
              " 9,\n",
              " 10,\n",
              " 11,\n",
              " 12,\n",
              " 13,\n",
              " 14,\n",
              " 15,\n",
              " 16,\n",
              " 17,\n",
              " 18,\n",
              " 19,\n",
              " 20,\n",
              " 21,\n",
              " 22,\n",
              " 23,\n",
              " 24,\n",
              " 25,\n",
              " 26,\n",
              " 27,\n",
              " 28,\n",
              " 29,\n",
              " 30,\n",
              " 31,\n",
              " 32,\n",
              " 33,\n",
              " 34,\n",
              " 35,\n",
              " 36,\n",
              " 37,\n",
              " 38,\n",
              " 39,\n",
              " 40,\n",
              " 41,\n",
              " 42,\n",
              " 43,\n",
              " 44,\n",
              " 45,\n",
              " 46,\n",
              " 47,\n",
              " 48,\n",
              " 49,\n",
              " 50,\n",
              " 51,\n",
              " 52,\n",
              " 53,\n",
              " 54,\n",
              " 55,\n",
              " 56,\n",
              " 57,\n",
              " 58,\n",
              " 59,\n",
              " 60,\n",
              " 61,\n",
              " 62,\n",
              " 63,\n",
              " 64,\n",
              " 65,\n",
              " 66,\n",
              " 67,\n",
              " 68,\n",
              " 69,\n",
              " 70,\n",
              " 71,\n",
              " 72,\n",
              " 73,\n",
              " 74,\n",
              " 75,\n",
              " 76,\n",
              " 77,\n",
              " 78,\n",
              " 79,\n",
              " 80,\n",
              " 81,\n",
              " 82,\n",
              " 83,\n",
              " 84,\n",
              " 85,\n",
              " 86,\n",
              " 87,\n",
              " 88,\n",
              " 89,\n",
              " 90,\n",
              " 91,\n",
              " 92,\n",
              " 93,\n",
              " 94,\n",
              " 95,\n",
              " 96,\n",
              " 97,\n",
              " 98,\n",
              " 99]"
            ]
          },
          "metadata": {},
          "execution_count": 4
        }
      ]
    },
    {
      "cell_type": "code",
      "source": [
        "[1,2,3,4,5,6]\n",
        "\n",
        "for i in [1,2,3,4,5]:\n",
        "    print('*', i)"
      ],
      "metadata": {
        "colab": {
          "base_uri": "https://localhost:8080/"
        },
        "id": "Eqqr81mf0LTy",
        "outputId": "97dc2513-9560-4506-d7ba-572a08f2a726"
      },
      "execution_count": null,
      "outputs": [
        {
          "output_type": "stream",
          "name": "stdout",
          "text": [
            "* 1\n",
            "* 2\n",
            "* 3\n",
            "* 4\n",
            "* 5\n"
          ]
        }
      ]
    },
    {
      "cell_type": "code",
      "source": [
        "# for i in [1,2,3,4,5,6,7,8,9,10]:\n",
        "for i in range(1,20,2): # [0,1,2,3,4,5,6,7,8,9]\n",
        "    print('========',i)"
      ],
      "metadata": {
        "colab": {
          "base_uri": "https://localhost:8080/"
        },
        "id": "8y0ZDebE0t2J",
        "outputId": "82bc026a-0810-493b-c4b8-fd2420dadda4"
      },
      "execution_count": null,
      "outputs": [
        {
          "output_type": "stream",
          "name": "stdout",
          "text": [
            "======== 1\n",
            "======== 3\n",
            "======== 5\n",
            "======== 7\n",
            "======== 9\n",
            "======== 11\n",
            "======== 13\n",
            "======== 15\n",
            "======== 17\n",
            "======== 19\n"
          ]
        }
      ]
    },
    {
      "cell_type": "markdown",
      "metadata": {
        "id": "DhhuC9uBgo4n"
      },
      "source": [
        "###[문제] \n",
        " 90,100,85,70 4과목의 점수를 출력하고, 합계를 출력합니다."
      ]
    },
    {
      "cell_type": "code",
      "source": [
        "s=[90,100,85,70]\n",
        "합 = 0\n",
        "\n",
        "for 점수 in s:\n",
        "    print(점수)\n",
        "    합 = 합 + 점수\n",
        "print(합)"
      ],
      "metadata": {
        "colab": {
          "base_uri": "https://localhost:8080/"
        },
        "id": "lI9Z3ofu1dji",
        "outputId": "69aeb375-7826-4244-ea2f-fa013314b55f"
      },
      "execution_count": null,
      "outputs": [
        {
          "output_type": "stream",
          "name": "stdout",
          "text": [
            "90\n",
            "100\n",
            "85\n",
            "70\n",
            "345\n"
          ]
        }
      ]
    },
    {
      "cell_type": "code",
      "source": [
        "s=[90,100,85,70]\n",
        "합 = 0\n",
        "\n",
        "for 점수 in s:\n",
        "    print(점수)\n",
        "    합 = 합 + 점수\n",
        "    print(합)"
      ],
      "metadata": {
        "colab": {
          "base_uri": "https://localhost:8080/"
        },
        "id": "2Ryli3NB2cxV",
        "outputId": "5f52a940-387f-4325-97dc-fd065ef82d47"
      },
      "execution_count": null,
      "outputs": [
        {
          "output_type": "stream",
          "name": "stdout",
          "text": [
            "90\n",
            "90\n",
            "100\n",
            "190\n",
            "85\n",
            "275\n",
            "70\n",
            "345\n"
          ]
        }
      ]
    },
    {
      "cell_type": "markdown",
      "metadata": {
        "id": "IWN6o7g8UQyg"
      },
      "source": [
        "###[문제] \n",
        "  1에서 100까지 출력하고 합계를 구해봅니다."
      ]
    },
    {
      "cell_type": "code",
      "source": [
        "hap = 0\n",
        "for i in range(1,101):\n",
        "    print(i)\n",
        "    hap += i # hap = hap + i\n",
        "print(hap)"
      ],
      "metadata": {
        "colab": {
          "base_uri": "https://localhost:8080/"
        },
        "id": "RV66LSCx2mLA",
        "outputId": "40a42a7f-e942-4e8f-ed53-43b6248a7312"
      },
      "execution_count": null,
      "outputs": [
        {
          "output_type": "stream",
          "name": "stdout",
          "text": [
            "1\n",
            "2\n",
            "3\n",
            "4\n",
            "5\n",
            "6\n",
            "7\n",
            "8\n",
            "9\n",
            "10\n",
            "11\n",
            "12\n",
            "13\n",
            "14\n",
            "15\n",
            "16\n",
            "17\n",
            "18\n",
            "19\n",
            "20\n",
            "21\n",
            "22\n",
            "23\n",
            "24\n",
            "25\n",
            "26\n",
            "27\n",
            "28\n",
            "29\n",
            "30\n",
            "31\n",
            "32\n",
            "33\n",
            "34\n",
            "35\n",
            "36\n",
            "37\n",
            "38\n",
            "39\n",
            "40\n",
            "41\n",
            "42\n",
            "43\n",
            "44\n",
            "45\n",
            "46\n",
            "47\n",
            "48\n",
            "49\n",
            "50\n",
            "51\n",
            "52\n",
            "53\n",
            "54\n",
            "55\n",
            "56\n",
            "57\n",
            "58\n",
            "59\n",
            "60\n",
            "61\n",
            "62\n",
            "63\n",
            "64\n",
            "65\n",
            "66\n",
            "67\n",
            "68\n",
            "69\n",
            "70\n",
            "71\n",
            "72\n",
            "73\n",
            "74\n",
            "75\n",
            "76\n",
            "77\n",
            "78\n",
            "79\n",
            "80\n",
            "81\n",
            "82\n",
            "83\n",
            "84\n",
            "85\n",
            "86\n",
            "87\n",
            "88\n",
            "89\n",
            "90\n",
            "91\n",
            "92\n",
            "93\n",
            "94\n",
            "95\n",
            "96\n",
            "97\n",
            "98\n",
            "99\n",
            "100\n",
            "5050\n"
          ]
        }
      ]
    },
    {
      "cell_type": "markdown",
      "metadata": {
        "id": "FtHPBYaedMbR"
      },
      "source": [
        "##  for 반복문 - 리스트\n",
        "\n",
        "enumerate 함수\n",
        "- 리스트가 있는 경우 순서와 리스트의 값을 전달하는 기능\n",
        "- enumerate는 “열거하다”라는 뜻\n",
        "- 함수는 순서가 있는 자료형(리스트, 튜플, 문자열)을 입력으로 받아 인덱스 값을 포함하는 enumerate 객체를 리턴\n",
        "-  enumerate 함수는 for문과 함께 자주 사용"
      ]
    },
    {
      "cell_type": "code",
      "metadata": {
        "id": "WUKAugHdaBEM",
        "colab": {
          "base_uri": "https://localhost:8080/"
        },
        "outputId": "e729d411-b60a-4e46-d946-97998448f32a"
      },
      "source": [
        "# 리스트의 값을 출력 For 반복문\n",
        "color =['red', 'blue', 'green', 'white', 'orange', 'purple']\n",
        "for c in color:\n",
        "    print(c)"
      ],
      "execution_count": null,
      "outputs": [
        {
          "output_type": "stream",
          "name": "stdout",
          "text": [
            "red\n",
            "blue\n",
            "green\n",
            "white\n",
            "orange\n",
            "purple\n"
          ]
        }
      ]
    },
    {
      "cell_type": "code",
      "source": [
        "for i, val in enumerate(color):\n",
        "    print(i, val)"
      ],
      "metadata": {
        "colab": {
          "base_uri": "https://localhost:8080/"
        },
        "id": "BQZQOwKY3hrK",
        "outputId": "06205569-b057-4b4f-82e5-a3ebb801f3f1"
      },
      "execution_count": null,
      "outputs": [
        {
          "output_type": "stream",
          "name": "stdout",
          "text": [
            "0 red\n",
            "1 blue\n",
            "2 green\n",
            "3 white\n",
            "4 orange\n",
            "5 purple\n"
          ]
        }
      ]
    },
    {
      "cell_type": "markdown",
      "metadata": {
        "id": "W2pcoy2TmOpD"
      },
      "source": [
        "딕셔너리"
      ]
    },
    {
      "cell_type": "code",
      "metadata": {
        "id": "-EkRkN9GhyR8"
      },
      "source": [
        "dic = {\n",
        "'name':'정지현',\n",
        "'phone':'010-1234-5678', \n",
        "'생일':'0821'\n",
        "}\n"
      ],
      "execution_count": null,
      "outputs": []
    },
    {
      "cell_type": "code",
      "source": [
        "dic['name']"
      ],
      "metadata": {
        "colab": {
          "base_uri": "https://localhost:8080/",
          "height": 35
        },
        "id": "gP_q5DD74CiV",
        "outputId": "a3384485-0d2c-40e0-8b4e-030d5bfc7e76"
      },
      "execution_count": null,
      "outputs": [
        {
          "output_type": "execute_result",
          "data": {
            "text/plain": [
              "'정지현'"
            ],
            "application/vnd.google.colaboratory.intrinsic+json": {
              "type": "string"
            }
          },
          "metadata": {},
          "execution_count": 23
        }
      ]
    },
    {
      "cell_type": "markdown",
      "metadata": {
        "id": "hz6B_8oVdMel"
      },
      "source": [
        "##  for 반복문 - 딕셔너리"
      ]
    },
    {
      "cell_type": "code",
      "metadata": {
        "id": "NrxEACkTWPSu",
        "colab": {
          "base_uri": "https://localhost:8080/"
        },
        "outputId": "ab7b8c4a-50df-4eb0-b387-46fb91fabb72"
      },
      "source": [
        "midterm = {'도윤': 43, '하윤': 82, '시우': 76, '지유': 61, '주원': 94}\n",
        "# 딕셔너리에 저장된 모든 학생의 이름 출력하기\n",
        "for k in midterm.keys():\n",
        "    print(k)"
      ],
      "execution_count": null,
      "outputs": [
        {
          "output_type": "stream",
          "name": "stdout",
          "text": [
            "도윤\n",
            "하윤\n",
            "시우\n",
            "지유\n",
            "주원\n"
          ]
        }
      ]
    },
    {
      "cell_type": "code",
      "metadata": {
        "id": "zfMpzcrMWSOD",
        "colab": {
          "base_uri": "https://localhost:8080/"
        },
        "outputId": "7327b998-a486-4cfb-93c8-ff5c96a71fce"
      },
      "source": [
        "# 딕셔너리에 저장된 모든 점수 출력하기\n",
        "for v in midterm.values():\n",
        "    print(v)"
      ],
      "execution_count": null,
      "outputs": [
        {
          "output_type": "stream",
          "name": "stdout",
          "text": [
            "43\n",
            "82\n",
            "76\n",
            "61\n",
            "94\n"
          ]
        }
      ]
    },
    {
      "cell_type": "code",
      "metadata": {
        "id": "at-V8XAsWYNS",
        "colab": {
          "base_uri": "https://localhost:8080/"
        },
        "outputId": "7492df0a-d9ec-4443-9f38-a0ce16cba3b3"
      },
      "source": [
        "# 딕셔너리에 저장된 모든 학생과 점수를 같이 출력하기\n",
        "for i in midterm.items():\n",
        "    print(i)\n"
      ],
      "execution_count": null,
      "outputs": [
        {
          "output_type": "stream",
          "name": "stdout",
          "text": [
            "('도윤', 43)\n",
            "('하윤', 82)\n",
            "('시우', 76)\n",
            "('지유', 61)\n",
            "('주원', 94)\n"
          ]
        }
      ]
    },
    {
      "cell_type": "code",
      "metadata": {
        "id": "J01DSaEnUlNT",
        "colab": {
          "base_uri": "https://localhost:8080/"
        },
        "outputId": "3ffa875f-4416-4cec-ee98-8fc4cd3e2623"
      },
      "source": [
        "# 딕션너리의 항목을 출력\n",
        "for k,val in midterm.items():\n",
        "    print('이름:',k, ',점수:', val )"
      ],
      "execution_count": null,
      "outputs": [
        {
          "output_type": "stream",
          "name": "stdout",
          "text": [
            "이름: 도윤 ,점수: 43\n",
            "이름: 하윤 ,점수: 82\n",
            "이름: 시우 ,점수: 76\n",
            "이름: 지유 ,점수: 61\n",
            "이름: 주원 ,점수: 94\n"
          ]
        }
      ]
    },
    {
      "cell_type": "markdown",
      "metadata": {
        "id": "c9876387"
      },
      "source": [
        "# while 반복문\n",
        "- while 문 - 어떤 조건이 만족(True)되는 동안, 반복을 계속하는 구조"
      ]
    },
    {
      "cell_type": "code",
      "metadata": {
        "id": "100801f2",
        "colab": {
          "base_uri": "https://localhost:8080/"
        },
        "outputId": "bc800ec9-2174-47f4-d6d2-b938d2eeeada"
      },
      "source": [
        "i = 1 \n",
        "\n",
        "while i <= 5:\n",
        "    print(i)\n",
        "    i += 1\n",
        "\n",
        "print('종료')"
      ],
      "execution_count": null,
      "outputs": [
        {
          "output_type": "stream",
          "name": "stdout",
          "text": [
            "1\n",
            "2\n",
            "3\n",
            "4\n",
            "5\n",
            "종료\n"
          ]
        }
      ]
    },
    {
      "cell_type": "markdown",
      "metadata": {
        "id": "85b748ec"
      },
      "source": [
        "## break "
      ]
    },
    {
      "cell_type": "code",
      "metadata": {
        "id": "12d755d3",
        "colab": {
          "base_uri": "https://localhost:8080/"
        },
        "outputId": "695d6211-4f90-49ed-ecbe-1c5e67348b22"
      },
      "source": [
        "# 무한 반복합니다.\n",
        "i= 0\n",
        "while True:\n",
        "    print('python',i)\n",
        "    if i >= 10:\n",
        "        break\n",
        "    i=i+1"
      ],
      "execution_count": null,
      "outputs": [
        {
          "output_type": "stream",
          "name": "stdout",
          "text": [
            "python 0\n",
            "python 1\n",
            "python 2\n",
            "python 3\n",
            "python 4\n",
            "python 5\n",
            "python 6\n",
            "python 7\n",
            "python 8\n",
            "python 9\n",
            "python 10\n"
          ]
        }
      ]
    },
    {
      "cell_type": "markdown",
      "metadata": {
        "id": "3cb03263"
      },
      "source": [
        "## continue "
      ]
    },
    {
      "cell_type": "code",
      "metadata": {
        "id": "89f7f802",
        "colab": {
          "base_uri": "https://localhost:8080/"
        },
        "outputId": "f69c3f51-b72d-4bbc-d4c5-55c0d8745f85"
      },
      "source": [
        "# 리스트 선언\n",
        "array = list(range(1,11))\n",
        "\n",
        "# 반복문을 실행합니다.\n",
        "for number in array:\n",
        "\n",
        "    # number가 짝수이면 다음 반복으로 넘어갑니다.\n",
        "    if number % 2 == 0:\n",
        "        continue\n",
        "        \n",
        "    # 출력합니다.\n",
        "    print(\"홀수:\", number)"
      ],
      "execution_count": null,
      "outputs": [
        {
          "output_type": "stream",
          "name": "stdout",
          "text": [
            "홀수: 1\n",
            "홀수: 3\n",
            "홀수: 5\n",
            "홀수: 7\n",
            "홀수: 9\n"
          ]
        }
      ]
    }
  ]
}